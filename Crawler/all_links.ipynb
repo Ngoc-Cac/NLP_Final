{
 "cells": [
  {
   "cell_type": "code",
   "execution_count": 1,
   "metadata": {},
   "outputs": [],
   "source": [
    "import regex as re\n",
    "import os.path as osp\n",
    "\n",
    "import requests\n",
    "\n",
    "from pathlib import Path\n",
    "from bs4 import BeautifulSoup"
   ]
  },
  {
   "cell_type": "code",
   "execution_count": 2,
   "metadata": {},
   "outputs": [],
   "source": [
    "domain = r'https://vnexpress.net/'\n",
    "topics =['the-thao', 'khoa-hoc',\n",
    "         'giao-duc', 'phap-luat', 'suc-khoe']\n",
    "exten = r'.html'\n",
    "sub = lambda x: fr'-p{x}' if x != 1 else ''"
   ]
  },
  {
   "cell_type": "code",
   "execution_count": 9,
   "metadata": {},
   "outputs": [],
   "source": [
    "links = {}\n",
    "for topic in topics:\n",
    "    links[topic] = set()\n",
    "    for ind in range(1, 23):\n",
    "        req = requests.get(domain + topic + sub(ind))\n",
    "        soup = BeautifulSoup(req.text, 'html.parser')\n",
    "        article_list = soup.find_all('h3', class_='title-news')\n",
    "        article_list.extend(soup.find_all('h2', class_='title-news'))\n",
    "        links[topic].update(i.findNext('a')['href'] for i in article_list)"
   ]
  },
  {
   "cell_type": "code",
   "execution_count": 11,
   "metadata": {},
   "outputs": [],
   "source": [
    "if not osp.exists((temp_dir := osp.join('.', 'temp'))):\n",
    "    Path(temp_dir).mkdir()\n",
    "    \n",
    "for topic in links:\n",
    "    with open(osp.join(temp_dir, 'links', f'{topic}.txt'), 'w') as file:\n",
    "        for link in links[topic]: file.write(link + '\\n')"
   ]
  },
  {
   "cell_type": "code",
   "execution_count": 10,
   "metadata": {},
   "outputs": [
    {
     "data": {
      "text/plain": [
       "[29, 29]"
      ]
     },
     "execution_count": 10,
     "metadata": {},
     "output_type": "execute_result"
    }
   ],
   "source": [
    "[len(i) for i in links.values()]"
   ]
  }
 ],
 "metadata": {
  "kernelspec": {
   "display_name": ".NLP_env",
   "language": "python",
   "name": "python3"
  },
  "language_info": {
   "codemirror_mode": {
    "name": "ipython",
    "version": 3
   },
   "file_extension": ".py",
   "mimetype": "text/x-python",
   "name": "python",
   "nbconvert_exporter": "python",
   "pygments_lexer": "ipython3",
   "version": "3.12.1"
  }
 },
 "nbformat": 4,
 "nbformat_minor": 2
}
