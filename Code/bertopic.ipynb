{
 "cells": [
  {
   "cell_type": "markdown",
   "metadata": {},
   "source": [
    "First, you will have to \"pip install bertopic\""
   ]
  },
  {
   "cell_type": "code",
   "execution_count": 6,
   "metadata": {},
   "outputs": [],
   "source": [
    "import os.path as osp\n",
    "import pandas as pd\n",
    "import joblib\n",
    "\n",
    "from util import stopwords, viet_tokenize, draw_wordcloud, draw_silhouette\n",
    "\n",
    "from sklearn.decomposition import PCA\n",
    "from sklearn.cluster import KMeans\n",
    "from sklearn.feature_extraction.text import CountVectorizer, TfidfVectorizer\n",
    "\n",
    "from bertopic import BERTopic\n",
    "from bertopic.representation import KeyBERTInspired\n",
    "from bertopic.vectorizers import ClassTfidfTransformer"
   ]
  },
  {
   "cell_type": "markdown",
   "metadata": {},
   "source": [
    "# Read data"
   ]
  },
  {
   "cell_type": "code",
   "execution_count": 7,
   "metadata": {},
   "outputs": [],
   "source": [
    "temp_dir = osp.join('.', 'temp')\n",
    "data = pd.read_csv(osp.join(temp_dir, 'data.csv'), encoding='utf-8')\n",
    "features = pd.read_csv(osp.join(temp_dir, 'features.csv'), encoding='utf-8')"
   ]
  },
  {
   "cell_type": "markdown",
   "metadata": {},
   "source": [
    "Change format for input requirement of BERTopic which is list of str"
   ]
  },
  {
   "cell_type": "code",
   "execution_count": 8,
   "metadata": {},
   "outputs": [],
   "source": [
    "docs = list(data['article'])"
   ]
  },
  {
   "cell_type": "markdown",
   "metadata": {},
   "source": [
    "# Build & Train"
   ]
  },
  {
   "cell_type": "markdown",
   "metadata": {},
   "source": [
    "BERTopic pipeline is as folllows:\n",
    "1. Embed documents: vectorise documents using TfidfVectorizer\n",
    "2. Dimensionality reduction: reduce dimension using PCA\n",
    "3. Cluster documents: clustering data to find topics using kmeans\n",
    "4. Tokenise topics: vectorise topics using tfidf\n",
    "5. Topic representation: create topic representation using c-TF-IDF (class-based TF-IDF)\n",
    "5. Fine-tune Topic representation: fine tune to get the best representation of topics, KeyBERTInspired is the default model"
   ]
  },
  {
   "cell_type": "code",
   "execution_count": null,
   "metadata": {},
   "outputs": [],
   "source": [
    "embedding_model = TfidfVectorizer(tokenizer=viet_tokenize, stop_words=stopwords,\n",
    "                                  ngram_range=(1,3), min_df=.05, max_df=.7)\n",
    "pca = PCA(n_components=300)\n",
    "cluster_model = KMeans(n_clusters=6, random_state=0, max_iter=3000)\n",
    "vectorizer_model = TfidfVectorizer(tokenizer=viet_tokenize, stop_words=stopwords,\n",
    "                                   ngram_range=(1,3), min_df=.05, max_df=.7)\n",
    "ctfidf_model = ClassTfidfTransformer(reduce_frequent_words=False)\n",
    "representation_model = KeyBERTInspired()\n",
    "\n",
    "topic_model = BERTopic(\n",
    "  n_gram_range=(1,3),\n",
    "  embedding_model=embedding_model,\n",
    "  umap_model=pca,\n",
    "  hdbscan_model=cluster_model,\n",
    "  vectorizer_model=vectorizer_model,\n",
    "  ctfidf_model=ctfidf_model,\n",
    "  representation_model=representation_model,\n",
    "  language='multilingual'\n",
    ")"
   ]
  },
  {
   "cell_type": "code",
   "execution_count": 10,
   "metadata": {},
   "outputs": [
    {
     "name": "stderr",
     "output_type": "stream",
     "text": [
      "OMP: Info #276: omp_set_nested routine deprecated, please use omp_set_max_active_levels instead.\n"
     ]
    }
   ],
   "source": [
    "topics, probs = topic_model.fit_transform(docs)\n",
    "topic_model.get_topic_info()"
   ]
  },
  {
   "cell_type": "markdown",
   "metadata": {},
   "source": [
    "# Visualisation"
   ]
  },
  {
   "cell_type": "code",
   "execution_count": null,
   "metadata": {},
   "outputs": [],
   "source": [
    "import matplotlib.pyplot as plt"
   ]
  },
  {
   "cell_type": "code",
   "execution_count": null,
   "metadata": {},
   "outputs": [],
   "source": [
    "clustered_docs = pd.DataFrame(topics, columns=['cluster'])"
   ]
  },
  {
   "cell_type": "code",
   "execution_count": null,
   "metadata": {},
   "outputs": [],
   "source": [
    "draw_silhouette(plt.gca(), features, clustered_docs['cluster'], 'BERTopic')"
   ]
  },
  {
   "cell_type": "code",
   "execution_count": null,
   "metadata": {},
   "outputs": [],
   "source": [
    "draw_wordcloud(data[clustered_docs['cluster'] == 0]['article'], plt.gca(),\n",
    "               background_color='white')"
   ]
  },
  {
   "cell_type": "code",
   "execution_count": null,
   "metadata": {},
   "outputs": [],
   "source": [
    "draw_wordcloud(data[clustered_docs['cluster'] == 1]['article'], plt.gca(),\n",
    "               background_color='white')"
   ]
  },
  {
   "cell_type": "code",
   "execution_count": null,
   "metadata": {},
   "outputs": [],
   "source": [
    "draw_wordcloud(data[clustered_docs['cluster'] == 2]['article'], plt.gca(),\n",
    "               background_color='white')"
   ]
  },
  {
   "cell_type": "code",
   "execution_count": null,
   "metadata": {},
   "outputs": [],
   "source": [
    "draw_wordcloud(data[clustered_docs['cluster'] == 3]['article'], plt.gca(),\n",
    "               background_color='white')"
   ]
  },
  {
   "cell_type": "code",
   "execution_count": null,
   "metadata": {},
   "outputs": [],
   "source": [
    "draw_wordcloud(data[clustered_docs['cluster'] == 4]['article'], plt.gca(),\n",
    "               background_color='white')"
   ]
  },
  {
   "cell_type": "code",
   "execution_count": null,
   "metadata": {},
   "outputs": [],
   "source": [
    "draw_wordcloud(data[clustered_docs['cluster'] == 5]['article'], plt.gca(),\n",
    "               background_color='white')"
   ]
  },
  {
   "cell_type": "markdown",
   "metadata": {},
   "source": [
    "# Save"
   ]
  },
  {
   "cell_type": "code",
   "execution_count": null,
   "metadata": {},
   "outputs": [],
   "source": [
    "from pathlib import Path\n",
    "\n",
    "if not osp.exists((output_dir := osp.join('..', 'Output', 'BERTopic'))):\n",
    "    Path(output_dir).mkdir()\n",
    "    Path(osp.join(output_dir, 'model')).mkdir()\n",
    "\n",
    "pd.concat([features, clustered_docs, data['link']], axis=1)\\\n",
    "  .to_csv(osp.join(output_dir, 'clustered.csv'), index=False)\n",
    "topic_model.save(osp.join(output_dir, 'model'), serialization=\"safetensors\", save_ctfidf=True,\n",
    "                 save_embedding_model=embedding_model)"
   ]
  }
 ],
 "metadata": {
  "kernelspec": {
   "display_name": "Python 3",
   "language": "python",
   "name": "python3"
  },
  "language_info": {
   "codemirror_mode": {
    "name": "ipython",
    "version": 3
   },
   "file_extension": ".py",
   "mimetype": "text/x-python",
   "name": "python",
   "nbconvert_exporter": "python",
   "pygments_lexer": "ipython3",
   "version": "3.11.5"
  }
 },
 "nbformat": 4,
 "nbformat_minor": 2
}
