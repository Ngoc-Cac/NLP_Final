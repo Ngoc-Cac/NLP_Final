{
 "cells": [
  {
   "cell_type": "code",
   "execution_count": 48,
   "metadata": {},
   "outputs": [],
   "source": [
    "import os.path as osp\n",
    "import joblib\n",
    "import pandas as pd\n",
    "\n",
    "from sklearn.metrics import pairwise_distances\n",
    "\n",
    "vectoriser = joblib.load(osp.join('..', 'Output', 'tfidf_vec.pkl'))\n",
    "kmean_model = joblib.load(osp.join('..', 'Output', 'kmean_model.pkl'))\n",
    "\n",
    "clustered_docs = pd.read_csv(osp.join('..', 'Output', 'KM Cluster Result', 'clustered.csv'),\n",
    "                             encoding='utf-8')\n",
    "docs = clustered_docs[['cluster', 'link']]\n",
    "features = clustered_docs.drop(['cluster', 'link'], axis=1)"
   ]
  },
  {
   "cell_type": "code",
   "execution_count": 81,
   "metadata": {},
   "outputs": [],
   "source": [
    "from typing import Iterable\n",
    "def recommend(prompt: str, top_n: int = 5) -> Iterable[str]:\n",
    "    temp = vectoriser.transform([prompt])\n",
    "    promt_df = pd.DataFrame(temp.toarray(), columns=vectoriser.get_feature_names_out())\n",
    "    \n",
    "    mask = (docs['cluster'] == kmean_model.predict(promt_df)[0])\n",
    "    dist_mat = pairwise_distances(promt_df, features[mask], metric='cosine')\n",
    "    sorted_indices = dist_mat[0].argsort()\n",
    "\n",
    "    return docs[mask]['link'].iloc[sorted_indices[-top_n:]].values"
   ]
  },
  {
   "cell_type": "code",
   "execution_count": 84,
   "metadata": {},
   "outputs": [],
   "source": [
    "prompt = \"Vào lúc 18h30 ngày 24/8, Man Utd sẽ có chuyến làm khách tới sân Amex của Brighton ở vòng 2 giải Ngoại hạng Anh. Trước thềm trận đấu này, đoàn quân của HLV Ten Hag không được đánh giá cao bằng chủ nhà. Theo phân tích của siêu máy tính Opta (dựa theo 10.000 lần mô phỏng trận đấu), Brighton có 39,4% cơ hội giành chiến thắng. \\\n",
    "Tỷ lệ thắng của Man Utd chỉ là 36%. Khả năng trận đấu kết thúc với tỷ số hòa là 24,6%. Brighton có tỷ lệ thắng cao hơn Man Utd theo phân tích của siêu máy tính Opta (Ảnh: Opta). Thống kê trước trận Man Utd vs Brighton Man Utd đã giành chiến thắng 1-0 trong trận ra quân Ngoại hạng Anh mùa giải này gặp Fulham. Trong đó, tân binh Joshua Zirkzee là người hùng của Quỷ đỏ với bàn thắng ở phút 87. Theo thống kê, tiền đạo người Hà Lan trở thành cầu thủ đầu tiên vào sân và ghi bàn quyết định ngay trong trận ra mắt Man Utd kể từ Federico Macheda vào tháng 4/2009. \\\n",
    "Cầu thủ gần nhất ghi 2 bàn trong 2 trận đầu tiên cho Man Utd chính là Antony vào tháng 10/2022. Nếu chọc thủng lưới Brighton trong trận đấu hôm nay, Joshua Zirkzee sẽ có cơ hội tái hiện điều đó. \\\n",
    "Cầu thủ người Hà Lan sẽ được hỗ trợ bởi Bruno Fernandes, người đã đặt dấu giày trong 6/13 bàn thắng gần nhất của Man Utd (ghi 4 bàn, kiến tạo 2 bàn) trong các trận đấu gặp Brighton ở Ngoại hạng Anh. \\\n",
    "Man Utd đang hướng tới lần đầu tiên giành chiến thắng trong 2 trận đấu đầu tiên ở Ngoại hạng Anh kể từ mùa giải 2017/18. \\\n",
    "Tuy nhiên, họ sẽ phải đụng độ với đối thủ cứng đầu thực sự mang tên Brighton. Trong trận ra quân, Brighton đã giành chiến thắng 3-0 trước Everton nhờ các bàn thắng của Kaoru Mitoma, Danny Welbeck và Simon Adingra. \\\n",
    "Cựu tiền đạo Man Utd, Welbeck, đã ghi bàn trong 16 mùa giải Ngoại hạng Anh. Chỉ có 6 cầu thủ làm được tốt hơn thế là Ryan Giggs (ghi bàn ở 21 mùa), Paul Scholes (19), Frank Lampard (18), John Terry (17), Jermain Defoe (17), James Milner (17). \\\n",
    "Welbeck cũng ghi 4 bàn vào lưới Man Utd trong khuôn khổ Ngoại hạng Anh, giúp anh trở thành cầu thủ cũ ghi nhiều bàn vào lưới Quỷ đỏ nhất. \\\n",
    "James Milner có khả năng tiếp tục được trọng dụng bên cạnh Mats Wieffer ở hàng tiền vệ. Cầu thủ 38 tuổi này đã xuất hiện trong 23 mùa giải Ngoại hạng Anh khác nhau, nhiều nhất trong lịch sử giải đấu. \\\n",
    "James Milner đã thắng 11/35 trận đấu gặp Man Utd ở Ngoại hạng Anh, chỉ có Kyle Walker là cầu thủ giành nhiều chiến thắng hơn khi đối diện với Man Utd (12 bàn). \\\n",
    "Brighton là đội có tỷ lệ thắng cao nhất khi đối đầu với Man Utd ở Ngoại hạng Anh (Ảnh: Opta). \\\n",
    "Thành tích đối đầu Brighton vs Man Utd \\\n",
    "Brighton được xem là hung thần của Man Utd trong những năm qua. Theo thống kê, \"\"Chim mòng biển\"\" đã thắng 4/5 trận gần nhất gặp Quỷ đỏ ở Ngoại hạng Anh. Tuy nhiên, trong lần chạm trán gần nhất ở vòng đấu cuối cùng mùa giải trước, Brighton đã thua 0-2 trước Man Utd ngay trên sân nhà. Diogo Dalot và Hojlund là những người ghi bàn cho đội bóng thành Manchester. \\\n",
    "Điều đáng nói, Man Utd thất bại trong 43% trận đấu gặp Brighton (6/14 trận). Trong lịch sử giải Ngoại hạng Anh, Quỷ đỏ chưa thua đội bóng nào với tỷ lệ cao đến vậy. \\\n",
    "14 trận gặp nhau của hai đội tại Ngoại hạng Anh không chứng kiến kết quả hòa. Brighton thắng 6 trận và thua 8 trận trước Man Utd. \\\n",
    "Thông tin lực lượng Brighton vs Man Utd \\\n",
    "Brighton không có sự phục vụ của hàng loạt cầu thủ như Solly March, Bart Verbruggen, Evan Ferguson, Julio Enciso, Pervis Estupinan vì chấn thương. Bên cạnh đó, Billy Gilmour và Yankuba Minteh vẫn đang chạy đua với thời gian để kịp ra sân. \\\n",
    "Man Utd không có sự phục vụ dài hạn của Leny Yoro và Rasmus Hojlund. Bên cạnh đó, Tyrell Malacia chưa thể trở lại. Các cầu thủ Luke Shaw, Victor Lindelof, Jadon Sancho chưa chắc ra sân ở trận đấu này. \\\n",
    "Đội hình dự kiến Brighton vs Man Utd \\\n",
    "Brighton: Jason Steele, Jack Hinshelwood, Lewis Dunk, Joël Veltman, Mats Wieffer, James Milner, Kaoru Mitoma, Jõao Pedro, Simon Adingra, Danny Welbeck. \\\n",
    "Man Utd: André Onana, Diogo Dalot, Lisandro Martínez, Harry Maguire, Noussair Mazraoui, Casemiro, Kobbie Mainoo, Marcus Rashford, Bruno Fernandes, Alejandro Garnacho, Joshua Zirkzee. \\\n",
    "Dự đoán tỷ số Brighton 3-2 Man Utd \\\n",
    "Dự đoán của một vài tờ báo trên thế giới \\\n",
    "Whoscored: Brighton 2-2 Man Utd \\\n",
    "Sport Mole: Brighton 2-2 Man Utd \\\n",
    "Sportskeeda: Brighton 1-2 Man Utd \\\n",
    "Squawka: Brighton 2-0 Man Utd\"\n",
    "# prompt = \"khoa học\""
   ]
  },
  {
   "cell_type": "code",
   "execution_count": 87,
   "metadata": {},
   "outputs": [
    {
     "data": {
      "text/plain": [
       "array(['https://vnexpress.net/giam-doc-cong-ty-co-phan-thien-nam-bi-bat-4816650.html',\n",
       "       'https://vnexpress.net/lua-ban-dat-rung-phong-ho-4811079.html',\n",
       "       'https://vnexpress.net/chu-cong-ty-nippon-epc-mat-tich-sau-khi-nhan-170-ty-dong-lam-cac-goi-thau-4813463.html',\n",
       "       'https://vnexpress.net/kien-cong-ty-sau-khi-bi-duoi-viec-vi-ngu-trong-gio-lam-4817744.html',\n",
       "       'https://vnexpress.net/giam-doc-dia-oc-dreamland-o-phan-thiet-bi-bat-4808715.html',\n",
       "       'https://vnexpress.net/de-xuat-bien-phap-ngan-tau-tan-tai-san-trong-cac-dai-an-4810144.html',\n",
       "       'https://vnexpress.net/chu-tich-samsung-bi-khang-nghi-ban-an-vo-toi-4820434.html',\n",
       "       'https://vnexpress.net/cuu-quan-chuc-tich-luy-tien-bac-phi-phap-38-trieu-usd-bi-tuyen-tu-hinh-4815986.html',\n",
       "       'https://vnexpress.net/thi-diem-5-bien-phap-ngan-tau-tan-tai-san-trong-cac-dai-an-4821454.html',\n",
       "       'https://vnexpress.net/8-nguoi-bi-khoi-to-vi-du-an-ho-chua-nuoc-ban-mong-cham-tien-do-4811227.html'],\n",
       "      dtype=object)"
      ]
     },
     "execution_count": 87,
     "metadata": {},
     "output_type": "execute_result"
    }
   ],
   "source": [
    "prompt = \"trương mỹ lan biển thủ ba chục tỷ đồng\"\n",
    "recommend(prompt, 10)"
   ]
  }
 ],
 "metadata": {
  "kernelspec": {
   "display_name": ".NLP_env",
   "language": "python",
   "name": "python3"
  },
  "language_info": {
   "codemirror_mode": {
    "name": "ipython",
    "version": 3
   },
   "file_extension": ".py",
   "mimetype": "text/x-python",
   "name": "python",
   "nbconvert_exporter": "python",
   "pygments_lexer": "ipython3",
   "version": "3.12.1"
  }
 },
 "nbformat": 4,
 "nbformat_minor": 2
}
